{
 "cells": [
  {
   "cell_type": "code",
   "execution_count": 10,
   "id": "d1ac76bd-4c21-46be-bb3c-4181a9698185",
   "metadata": {},
   "outputs": [
    {
     "name": "stdout",
     "output_type": "stream",
     "text": [
      "Roots of f(x) = exp(x) + ln(x) on [0.1, 1]: are ['0.2698741376']\n",
      "Roots of f(x) = arctan(x) - x^2 on [0, 2]: are ['0.0000999999', '0.8336061945']\n",
      "Roots of f(x) = sin(x) - ln(x) on [3, 4]: are []\n",
      "Roots of f(x) = ln(cos((x)) on [5, 7]: are []\n"
     ]
    }
   ],
   "source": [
    "import math\n",
    "\n",
    "def roots(f, a,b, tol = 1e-10):\n",
    "    roots_found = set()\n",
    "\n",
    "    def find_root(x0, x1):\n",
    "        if f(x0) * f(x1) > 0:\n",
    "            return\n",
    "\n",
    "        while (x1 - x0)/2 > tol:\n",
    "            c = (x0 +x1)/2\n",
    "            try:\n",
    "                fc = f(c)\n",
    "            except ValueError:\n",
    "                return\n",
    "\n",
    "            if abs(fc) < tol:\n",
    "                roots_found.add(round(c, int(abs(math.log10(tol)))))\n",
    "                return\n",
    "            elif f(x0) * fc < 0:\n",
    "                x1 = c\n",
    "            else:\n",
    "                x0 = c\n",
    "        roots_found.add(round((x0 + x1)/2, int(abs(math.log10(tol)))))\n",
    "\n",
    "    n_intervals = 20000\n",
    "    for i in range(n_intervals):\n",
    "        x0 = a + i * (b-a) / n_intervals\n",
    "        x1 = a + (i + 1) * (b-a) / n_intervals\n",
    "\n",
    "        try:\n",
    "            if abs(f(x0)) < float('inf') and abs(f(x1)) < float('inf'):\n",
    "                find_root(x0, x1)\n",
    "        except ValueError:\n",
    "            continue\n",
    "    return sorted(roots_found)\n",
    "\n",
    "root1 = roots(lambda x: math.exp(x) + math.log(x), a=0.1, b=1)\n",
    "print(f\"Roots of f(x) = exp(x) + ln(x) on [0.1, 1]: are {[f'{r:.10f}' for r in root1]}\")\n",
    "\n",
    "root2 = roots(lambda x: math.atan(x) - x**2, a=0, b=2)\n",
    "print(f\"Roots of f(x) = arctan(x) - x^2 on [0, 2]: are {[f'{r:.10f}' for r in root2]}\")\n",
    "\n",
    "root3 = roots(lambda x: math.sin(x) - math.log(x), a=3, b=4)\n",
    "print(f\"Roots of f(x) = sin(x) - ln(x) on [3, 4]: are {[f'{r:.10f}' for r in root3]}\")\n",
    "\n",
    "root4 = roots(lambda x: math.log(math.cos(x)) if abs(math.cos(x)) > 1e-10 else float('inf'), a=5, b=7)\n",
    "print(f\"Roots of f(x) = ln(cos((x)) on [5, 7]: are {[f'{r:.10f}' for r in root4]}\")\n"
   ]
  },
  {
   "cell_type": "code",
   "execution_count": null,
   "id": "5ab68292-aea6-4b61-a629-93e30b91899f",
   "metadata": {},
   "outputs": [],
   "source": []
  }
 ],
 "metadata": {
  "kernelspec": {
   "display_name": "Python 3 (ipykernel)",
   "language": "python",
   "name": "python3"
  },
  "language_info": {
   "codemirror_mode": {
    "name": "ipython",
    "version": 3
   },
   "file_extension": ".py",
   "mimetype": "text/x-python",
   "name": "python",
   "nbconvert_exporter": "python",
   "pygments_lexer": "ipython3",
   "version": "3.12.8"
  }
 },
 "nbformat": 4,
 "nbformat_minor": 5
}
